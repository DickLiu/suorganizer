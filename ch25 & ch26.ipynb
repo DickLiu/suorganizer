{
 "cells": [
  {
   "cell_type": "code",
   "execution_count": 1,
   "metadata": {
    "collapsed": true,
    "deletable": true,
    "editable": true
   },
   "outputs": [],
   "source": [
    "from django.apps import apps as suorganizer_apps"
   ]
  },
  {
   "cell_type": "code",
   "execution_count": 2,
   "metadata": {
    "collapsed": true,
    "deletable": true,
    "editable": true
   },
   "outputs": [],
   "source": [
    "organizer_app = suorganizer_apps.get_app_config('organizer')"
   ]
  },
  {
   "cell_type": "code",
   "execution_count": 4,
   "metadata": {
    "collapsed": false,
    "deletable": true,
    "editable": true
   },
   "outputs": [],
   "source": [
    "auth_app = suorganizer_apps.get_app_config('auth')"
   ]
  },
  {
   "cell_type": "code",
   "execution_count": 5,
   "metadata": {
    "collapsed": false,
    "deletable": true,
    "editable": true
   },
   "outputs": [
    {
     "data": {
      "text/plain": [
       "'organizer'"
      ]
     },
     "execution_count": 5,
     "metadata": {},
     "output_type": "execute_result"
    }
   ],
   "source": [
    "organizer_app.name"
   ]
  },
  {
   "cell_type": "code",
   "execution_count": 6,
   "metadata": {
    "collapsed": false,
    "deletable": true,
    "editable": true
   },
   "outputs": [
    {
     "data": {
      "text/plain": [
       "'organizer'"
      ]
     },
     "execution_count": 6,
     "metadata": {},
     "output_type": "execute_result"
    }
   ],
   "source": [
    "organizer_app.label"
   ]
  },
  {
   "cell_type": "code",
   "execution_count": 7,
   "metadata": {
    "collapsed": false,
    "deletable": true,
    "editable": true
   },
   "outputs": [
    {
     "data": {
      "text/plain": [
       "'django.contrib.auth'"
      ]
     },
     "execution_count": 7,
     "metadata": {},
     "output_type": "execute_result"
    }
   ],
   "source": [
    "auth_app.name"
   ]
  },
  {
   "cell_type": "code",
   "execution_count": 8,
   "metadata": {
    "collapsed": false,
    "deletable": true,
    "editable": true
   },
   "outputs": [
    {
     "data": {
      "text/plain": [
       "'auth'"
      ]
     },
     "execution_count": 8,
     "metadata": {},
     "output_type": "execute_result"
    }
   ],
   "source": [
    "auth_app.label"
   ]
  },
  {
   "cell_type": "code",
   "execution_count": 9,
   "metadata": {
    "collapsed": false,
    "deletable": true,
    "editable": true
   },
   "outputs": [
    {
     "data": {
      "text/plain": [
       "<generator object AppConfig.get_models at 0x00000228E3AD24C0>"
      ]
     },
     "execution_count": 9,
     "metadata": {},
     "output_type": "execute_result"
    }
   ],
   "source": [
    "organizer_app.get_models()"
   ]
  },
  {
   "cell_type": "code",
   "execution_count": 10,
   "metadata": {
    "collapsed": false,
    "deletable": true,
    "editable": true
   },
   "outputs": [
    {
     "data": {
      "text/plain": [
       "[organizer.models.Tag, organizer.models.Startup, organizer.models.NewsLink]"
      ]
     },
     "execution_count": 10,
     "metadata": {},
     "output_type": "execute_result"
    }
   ],
   "source": [
    "list(organizer_app.get_models())"
   ]
  },
  {
   "cell_type": "code",
   "execution_count": 11,
   "metadata": {
    "collapsed": false,
    "deletable": true,
    "editable": true
   },
   "outputs": [
    {
     "data": {
      "text/plain": [
       "<generator object AppConfig.get_models at 0x00000228E3AD2A40>"
      ]
     },
     "execution_count": 11,
     "metadata": {},
     "output_type": "execute_result"
    }
   ],
   "source": [
    "organizer_app.get_models('Startup')"
   ]
  },
  {
   "cell_type": "code",
   "execution_count": 1,
   "metadata": {
    "collapsed": true,
    "deletable": true,
    "editable": true
   },
   "outputs": [],
   "source": [
    "from user.models import Profile\n",
    "from blog.models import Tag, Post, Startup"
   ]
  },
  {
   "cell_type": "code",
   "execution_count": 2,
   "metadata": {
    "collapsed": false,
    "deletable": true,
    "editable": true
   },
   "outputs": [
    {
     "data": {
      "text/plain": [
       "<QuerySet [<Profile: django@jambonsw.com>, <Profile: 495100061dick@gmail.com>]>"
      ]
     },
     "execution_count": 2,
     "metadata": {},
     "output_type": "execute_result"
    }
   ],
   "source": [
    "Profile.objects.filter(name__in=['Andrew', 'Mimi'])"
   ]
  },
  {
   "cell_type": "code",
   "execution_count": 3,
   "metadata": {
    "collapsed": false,
    "deletable": true,
    "editable": true
   },
   "outputs": [
    {
     "data": {
      "text/plain": [
       "['startup', 'blog_posts', 'id', 'name', 'slug']"
      ]
     },
     "execution_count": 3,
     "metadata": {},
     "output_type": "execute_result"
    }
   ],
   "source": [
    "[f.name for f in Tag._meta.get_fields()]"
   ]
  },
  {
   "cell_type": "code",
   "execution_count": 7,
   "metadata": {
    "collapsed": false,
    "deletable": true,
    "editable": true
   },
   "outputs": [
    {
     "data": {
      "text/plain": [
       "<QuerySet [<Tag: Django>, <Tag: Web>, <Tag: Education>, <Tag: Ipython>, <Tag: Javascript>, <Tag: Jupyter>, <Tag: Node.Js>, <Tag: Php>, <Tag: Python>, <Tag: Ruby>, <Tag: Ruby On Rails>, <Tag: Zend>]>"
      ]
     },
     "execution_count": 7,
     "metadata": {},
     "output_type": "execute_result"
    }
   ],
   "source": [
    "Tag.objects.filter(startup__in=[1, 2, 3])"
   ]
  },
  {
   "cell_type": "code",
   "execution_count": 4,
   "metadata": {
    "collapsed": false,
    "deletable": true,
    "editable": true
   },
   "outputs": [
    {
     "data": {
      "text/plain": [
       "<QuerySet [{'name': 'Django', 'pk': 13}, {'name': 'Web', 'pk': 14}, {'name': 'augmented reality', 'pk': 1}, {'name': 'big data', 'pk': 2}, {'name': 'django unleashed', 'pk': 15}, {'name': 'education', 'pk': 3}, {'name': 'ipython', 'pk': 4}, {'name': 'javascript', 'pk': 5}, {'name': 'jupyter', 'pk': 6}, {'name': 'node.js', 'pk': 7}, {'name': 'php', 'pk': 8}, {'name': 'python', 'pk': 9}, {'name': 'ruby', 'pk': 11}, {'name': 'ruby on rails', 'pk': 10}, {'name': 'zend', 'pk': 12}]>"
      ]
     },
     "execution_count": 4,
     "metadata": {},
     "output_type": "execute_result"
    }
   ],
   "source": [
    "Tag.objects.values('pk', 'name')"
   ]
  },
  {
   "cell_type": "code",
   "execution_count": 5,
   "metadata": {
    "collapsed": false,
    "deletable": true,
    "editable": true
   },
   "outputs": [
    {
     "data": {
      "text/plain": [
       "['newslink',\n",
       " 'blog_posts',\n",
       " 'id',\n",
       " 'name',\n",
       " 'slug',\n",
       " 'description',\n",
       " 'founded_date',\n",
       " 'contact',\n",
       " 'website',\n",
       " 'tags']"
      ]
     },
     "execution_count": 5,
     "metadata": {},
     "output_type": "execute_result"
    }
   ],
   "source": [
    "[f.name for f in Startup._meta.get_fields()]"
   ]
  },
  {
   "cell_type": "code",
   "execution_count": 9,
   "metadata": {
    "collapsed": false,
    "deletable": true,
    "editable": true
   },
   "outputs": [],
   "source": [
    "tag_pk_set = (\n",
    "                    Tag.objects.filter(\n",
    "                            startup__in=[1,2,3])\n",
    "                    .values_list('pk', flat=True)\n",
    "                    .distinct().iterator())"
   ]
  },
  {
   "cell_type": "code",
   "execution_count": 14,
   "metadata": {
    "collapsed": false,
    "deletable": true,
    "editable": true
   },
   "outputs": [
    {
     "data": {
      "text/plain": [
       "<generator object __iter__ at 0x00000195EA959410>"
      ]
     },
     "execution_count": 14,
     "metadata": {},
     "output_type": "execute_result"
    }
   ],
   "source": [
    "tag_pk_set"
   ]
  },
  {
   "cell_type": "code",
   "execution_count": 13,
   "metadata": {
    "collapsed": false,
    "deletable": true,
    "editable": true
   },
   "outputs": [
    {
     "data": {
      "text/plain": [
       "<QuerySet [13, 14, 3, 4, 5, 6, 7, 8, 9, 11, 10, 12]>"
      ]
     },
     "execution_count": 13,
     "metadata": {},
     "output_type": "execute_result"
    }
   ],
   "source": [
    "Tag.objects.filter(startup__in=[1,2,3]).values_list('pk', flat=True)"
   ]
  },
  {
   "cell_type": "code",
   "execution_count": 19,
   "metadata": {
    "collapsed": false,
    "deletable": true,
    "editable": true
   },
   "outputs": [
    {
     "name": "stdout",
     "output_type": "stream",
     "text": [
      "14\n",
      "3\n",
      "4\n",
      "5\n",
      "6\n",
      "7\n",
      "8\n",
      "9\n",
      "11\n",
      "10\n",
      "12\n"
     ]
    }
   ],
   "source": [
    "for i in tag_pk_set:\n",
    "    print(i)"
   ]
  },
  {
   "cell_type": "code",
   "execution_count": 22,
   "metadata": {
    "collapsed": false,
    "deletable": true,
    "editable": true
   },
   "outputs": [],
   "source": [
    "a = Post.objects.get(id=6)"
   ]
  },
  {
   "cell_type": "code",
   "execution_count": 26,
   "metadata": {
    "collapsed": false,
    "deletable": true,
    "editable": true
   },
   "outputs": [
    {
     "data": {
      "text/plain": [
       "<Post: New Django Version:2020-05-15>"
      ]
     },
     "execution_count": 26,
     "metadata": {},
     "output_type": "execute_result"
    }
   ],
   "source": [
    "a"
   ]
  },
  {
   "cell_type": "code",
   "execution_count": 27,
   "metadata": {
    "collapsed": false,
    "deletable": true,
    "editable": true
   },
   "outputs": [
    {
     "data": {
      "text/plain": [
       "<django.db.models.fields.related_descriptors.create_forward_many_to_many_manager.<locals>.ManyRelatedManager at 0x195ea973390>"
      ]
     },
     "execution_count": 27,
     "metadata": {},
     "output_type": "execute_result"
    }
   ],
   "source": [
    "a.tags"
   ]
  },
  {
   "cell_type": "code",
   "execution_count": 28,
   "metadata": {
    "collapsed": false,
    "deletable": true,
    "editable": true
   },
   "outputs": [
    {
     "data": {
      "text/plain": [
       "<QuerySet [<Tag: Django>, <Tag: Web>, <Tag: Python>]>"
      ]
     },
     "execution_count": 28,
     "metadata": {},
     "output_type": "execute_result"
    }
   ],
   "source": [
    "a.tags.all()"
   ]
  },
  {
   "cell_type": "code",
   "execution_count": 29,
   "metadata": {
    "collapsed": true,
    "deletable": true,
    "editable": true
   },
   "outputs": [],
   "source": [
    "a.tags.add(1)"
   ]
  },
  {
   "cell_type": "code",
   "execution_count": 30,
   "metadata": {
    "collapsed": false,
    "deletable": true,
    "editable": true
   },
   "outputs": [
    {
     "data": {
      "text/plain": [
       "<QuerySet [<Tag: Django>, <Tag: Web>, <Tag: Augmented Reality>, <Tag: Python>]>"
      ]
     },
     "execution_count": 30,
     "metadata": {},
     "output_type": "execute_result"
    }
   ],
   "source": [
    "a.tags.all()"
   ]
  },
  {
   "cell_type": "code",
   "execution_count": 31,
   "metadata": {
    "collapsed": false,
    "deletable": true,
    "editable": true
   },
   "outputs": [
    {
     "data": {
      "text/plain": [
       "<QuerySet [(13, 'Django', 'django'), (14, 'Web', 'web'), (1, 'augmented reality', 'augmented-reality'), (9, 'python', 'python')]>"
      ]
     },
     "execution_count": 31,
     "metadata": {},
     "output_type": "execute_result"
    }
   ],
   "source": [
    "a.tags.values_list()"
   ]
  },
  {
   "cell_type": "code",
   "execution_count": 33,
   "metadata": {
    "collapsed": false,
    "deletable": true,
    "editable": true
   },
   "outputs": [
    {
     "data": {
      "text/plain": [
       "<QuerySet [13, 14, 1, 9]>"
      ]
     },
     "execution_count": 33,
     "metadata": {},
     "output_type": "execute_result"
    }
   ],
   "source": [
    "a.tags.values_list('pk', flat=True)"
   ]
  },
  {
   "cell_type": "code",
   "execution_count": 35,
   "metadata": {
    "collapsed": false,
    "deletable": true,
    "editable": true
   },
   "outputs": [],
   "source": [
    "b = a.tags.values_list('pk', flat=True).iterator()"
   ]
  },
  {
   "cell_type": "code",
   "execution_count": 36,
   "metadata": {
    "collapsed": false,
    "deletable": true,
    "editable": true
   },
   "outputs": [
    {
     "name": "stdout",
     "output_type": "stream",
     "text": [
      "13\n",
      "14\n",
      "1\n",
      "9\n"
     ]
    }
   ],
   "source": [
    "for i in b:\n",
    "    print(i)"
   ]
  },
  {
   "cell_type": "code",
   "execution_count": 37,
   "metadata": {
    "collapsed": false,
    "deletable": true,
    "editable": true
   },
   "outputs": [
    {
     "data": {
      "text/plain": [
       "{1: <Post: Django 1.0 Release:2008-09-03>,\n",
       " 2: <Post: Simple Robots for Sale:2011-02-21>,\n",
       " 3: <Post: Django Training:2013-01-18>}"
      ]
     },
     "execution_count": 37,
     "metadata": {},
     "output_type": "execute_result"
    }
   ],
   "source": [
    "Post.objects.in_bulk([1,2,3])"
   ]
  },
  {
   "cell_type": "code",
   "execution_count": 2,
   "metadata": {
    "collapsed": true,
    "deletable": true,
    "editable": true
   },
   "outputs": [],
   "source": [
    "posts = Post.objects.all()"
   ]
  },
  {
   "cell_type": "code",
   "execution_count": 3,
   "metadata": {
    "collapsed": false,
    "deletable": true,
    "editable": true
   },
   "outputs": [
    {
     "name": "stdout",
     "output_type": "stream",
     "text": [
      "SELECT \"blog_post\".\"id\", \"blog_post\".\"title\", \"blog_post\".\"slug\", \"blog_post\".\"text\", \"blog_post\".\"pub_date\", \"blog_post\".\"author_id\" FROM \"blog_post\" ORDER BY \"blog_post\".\"pub_date\" DESC, \"blog_post\".\"title\" ASC\n"
     ]
    }
   ],
   "source": [
    "print(posts.query)"
   ]
  },
  {
   "cell_type": "code",
   "execution_count": 1,
   "metadata": {
    "collapsed": true,
    "deletable": true,
    "editable": true
   },
   "outputs": [],
   "source": [
    "from user.models import Profile\n",
    "from blog.models import Tag, Post, Startup\n",
    "from user.models import User"
   ]
  },
  {
   "cell_type": "code",
   "execution_count": 8,
   "metadata": {
    "collapsed": false,
    "deletable": true,
    "editable": true
   },
   "outputs": [
    {
     "data": {
      "text/plain": [
       "<QuerySet [<Post: New Django Version:2020-05-15>, <Post: 圖書館106年10月26日(四)14:30-16:30時，JoVE Journal教育訓練歡迎前來參加!:2017-10-16>, <Post: More Django Info:2015-04-08>, <Post: Django 1.8 Release:2015-04-01>, <Post: Django Training:2013-01-18>, <Post: Simple Robots for Sale:2011-02-21>, <Post: Django 1.0 Release:2008-09-03>]>"
      ]
     },
     "execution_count": 8,
     "metadata": {},
     "output_type": "execute_result"
    }
   ],
   "source": [
    "Post.objects.select_related('author')"
   ]
  },
  {
   "cell_type": "code",
   "execution_count": 9,
   "metadata": {
    "collapsed": true,
    "deletable": true,
    "editable": true
   },
   "outputs": [],
   "source": [
    "a = Post.objects.select_related('author').query"
   ]
  },
  {
   "cell_type": "code",
   "execution_count": 10,
   "metadata": {
    "collapsed": false,
    "deletable": true,
    "editable": true
   },
   "outputs": [
    {
     "name": "stdout",
     "output_type": "stream",
     "text": [
      "SELECT \"blog_post\".\"id\", \"blog_post\".\"title\", \"blog_post\".\"slug\", \"blog_post\".\"text\", \"blog_post\".\"pub_date\", \"blog_post\".\"author_id\", \"user_user\".\"id\", \"user_user\".\"password\", \"user_user\".\"last_login\", \"user_user\".\"is_superuser\", \"user_user\".\"email\", \"user_user\".\"is_staff\", \"user_user\".\"is_active\" FROM \"blog_post\" INNER JOIN \"user_user\" ON (\"blog_post\".\"author_id\" = \"user_user\".\"id\") ORDER BY \"blog_post\".\"pub_date\" DESC, \"blog_post\".\"title\" ASC\n"
     ]
    }
   ],
   "source": [
    "print(a)"
   ]
  },
  {
   "cell_type": "code",
   "execution_count": 11,
   "metadata": {
    "collapsed": false,
    "deletable": true,
    "editable": true
   },
   "outputs": [
    {
     "data": {
      "text/plain": [
       "<QuerySet [<Post: New Django Version:2020-05-15>, <Post: 圖書館106年10月26日(四)14:30-16:30時，JoVE Journal教育訓練歡迎前來參加!:2017-10-16>, <Post: More Django Info:2015-04-08>, <Post: Django 1.8 Release:2015-04-01>, <Post: Django Training:2013-01-18>, <Post: Simple Robots for Sale:2011-02-21>, <Post: Django 1.0 Release:2008-09-03>]>"
      ]
     },
     "execution_count": 11,
     "metadata": {},
     "output_type": "execute_result"
    }
   ],
   "source": [
    "Post.objects.prefetch_related('startups')"
   ]
  },
  {
   "cell_type": "code",
   "execution_count": 12,
   "metadata": {
    "collapsed": false,
    "deletable": true,
    "editable": true
   },
   "outputs": [
    {
     "name": "stdout",
     "output_type": "stream",
     "text": [
      "SELECT \"blog_post\".\"id\", \"blog_post\".\"title\", \"blog_post\".\"slug\", \"blog_post\".\"text\", \"blog_post\".\"pub_date\", \"blog_post\".\"author_id\" FROM \"blog_post\" ORDER BY \"blog_post\".\"pub_date\" DESC, \"blog_post\".\"title\" ASC\n"
     ]
    }
   ],
   "source": [
    "print(Post.objects.prefetch_related('startups').query)"
   ]
  },
  {
   "cell_type": "code",
   "execution_count": 13,
   "metadata": {
    "collapsed": true,
    "deletable": true,
    "editable": true
   },
   "outputs": [],
   "source": [
    "posts = Post.objects.all()\n",
    "posts_startups = Post.objects.prefetch_related('startups')"
   ]
  },
  {
   "cell_type": "code",
   "execution_count": 14,
   "metadata": {
    "collapsed": false,
    "deletable": true,
    "editable": true
   },
   "outputs": [
    {
     "data": {
      "text/plain": [
       "True"
      ]
     },
     "execution_count": 14,
     "metadata": {},
     "output_type": "execute_result"
    }
   ],
   "source": [
    "list(posts_startups) == list(posts)"
   ]
  },
  {
   "cell_type": "code",
   "execution_count": 17,
   "metadata": {
    "collapsed": false,
    "deletable": true,
    "editable": true
   },
   "outputs": [
    {
     "data": {
      "text/plain": [
       "True"
      ]
     },
     "execution_count": 17,
     "metadata": {},
     "output_type": "execute_result"
    }
   ],
   "source": [
    "str(posts_startups.query) == str(posts.query)"
   ]
  },
  {
   "cell_type": "code",
   "execution_count": 22,
   "metadata": {
    "collapsed": true,
    "deletable": true,
    "editable": true
   },
   "outputs": [],
   "source": [
    "from django.db import reset_queries"
   ]
  },
  {
   "cell_type": "code",
   "execution_count": 23,
   "metadata": {
    "collapsed": true,
    "deletable": true,
    "editable": true
   },
   "outputs": [],
   "source": [
    "reset_queries()"
   ]
  },
  {
   "cell_type": "code",
   "execution_count": 24,
   "metadata": {
    "collapsed": false,
    "deletable": true,
    "editable": true
   },
   "outputs": [],
   "source": [
    "posts_startups = list(Post.objects.prefetch_related('startups'))"
   ]
  },
  {
   "cell_type": "code",
   "execution_count": 25,
   "metadata": {
    "collapsed": true,
    "deletable": true,
    "editable": true
   },
   "outputs": [],
   "source": [
    "from django.db  import connection"
   ]
  },
  {
   "cell_type": "code",
   "execution_count": 26,
   "metadata": {
    "collapsed": false,
    "deletable": true,
    "editable": true
   },
   "outputs": [
    {
     "data": {
      "text/plain": [
       "'SELECT (\"blog_post_startups\".\"post_id\") AS \"_prefetch_related_val_post_id\", \"organizer_startup\".\"id\", \"organizer_startup\".\"name\", \"organizer_startup\".\"slug\", \"organizer_startup\".\"description\", \"organizer_startup\".\"founded_date\", \"organizer_startup\".\"contact\", \"organizer_startup\".\"website\" FROM \"organizer_startup\" INNER JOIN \"blog_post_startups\" ON (\"organizer_startup\".\"id\" = \"blog_post_startups\".\"startup_id\") WHERE \"blog_post_startups\".\"post_id\" IN (1, 2, 3, 4, 5, 6, 7) ORDER BY \"organizer_startup\".\"name\" ASC'"
      ]
     },
     "execution_count": 26,
     "metadata": {},
     "output_type": "execute_result"
    }
   ],
   "source": [
    "connection.queries[-1]['sql']"
   ]
  },
  {
   "cell_type": "code",
   "execution_count": 27,
   "metadata": {
    "collapsed": false,
    "deletable": true,
    "editable": true
   },
   "outputs": [
    {
     "data": {
      "text/plain": [
       "'SELECT \"blog_post\".\"id\", \"blog_post\".\"title\", \"blog_post\".\"slug\", \"blog_post\".\"text\", \"blog_post\".\"pub_date\", \"blog_post\".\"author_id\" FROM \"blog_post\" ORDER BY \"blog_post\".\"pub_date\" DESC, \"blog_post\".\"title\" ASC'"
      ]
     },
     "execution_count": 27,
     "metadata": {},
     "output_type": "execute_result"
    }
   ],
   "source": [
    "connection.queries[-2]['sql']"
   ]
  },
  {
   "cell_type": "code",
   "execution_count": 2,
   "metadata": {
    "collapsed": true,
    "deletable": true,
    "editable": true
   },
   "outputs": [],
   "source": [
    "from pprint import pprint"
   ]
  },
  {
   "cell_type": "code",
   "execution_count": 29,
   "metadata": {
    "collapsed": false,
    "deletable": true,
    "editable": true
   },
   "outputs": [
    {
     "name": "stdout",
     "output_type": "stream",
     "text": [
      "[{'sql': 'SELECT \"blog_post\".\"id\", \"blog_post\".\"title\", \"blog_post\".\"slug\", '\n",
      "         '\"blog_post\".\"text\", \"blog_post\".\"pub_date\", \"blog_post\".\"author_id\" '\n",
      "         'FROM \"blog_post\" ORDER BY \"blog_post\".\"pub_date\" DESC, '\n",
      "         '\"blog_post\".\"title\" ASC',\n",
      "  'time': '0.000'},\n",
      " {'sql': 'SELECT (\"blog_post_startups\".\"post_id\") AS '\n",
      "         '\"_prefetch_related_val_post_id\", \"organizer_startup\".\"id\", '\n",
      "         '\"organizer_startup\".\"name\", \"organizer_startup\".\"slug\", '\n",
      "         '\"organizer_startup\".\"description\", '\n",
      "         '\"organizer_startup\".\"founded_date\", \"organizer_startup\".\"contact\", '\n",
      "         '\"organizer_startup\".\"website\" FROM \"organizer_startup\" INNER JOIN '\n",
      "         '\"blog_post_startups\" ON (\"organizer_startup\".\"id\" = '\n",
      "         '\"blog_post_startups\".\"startup_id\") WHERE '\n",
      "         '\"blog_post_startups\".\"post_id\" IN (1, 2, 3, 4, 5, 6, 7) ORDER BY '\n",
      "         '\"organizer_startup\".\"name\" ASC',\n",
      "  'time': '0.000'}]\n"
     ]
    }
   ],
   "source": [
    "pprint(connection.queries)"
   ]
  },
  {
   "cell_type": "code",
   "execution_count": 31,
   "metadata": {
    "collapsed": false,
    "deletable": true,
    "editable": true
   },
   "outputs": [
    {
     "data": {
      "text/plain": [
       "<QuerySet [<Post: New Django Version:2020-05-15>, <Post: 圖書館106年10月26日(四)14:30-16:30時，JoVE Journal教育訓練歡迎前來參加!:2017-10-16>, <Post: More Django Info:2015-04-08>, <Post: Django 1.8 Release:2015-04-01>, <Post: Django Training:2013-01-18>, <Post: Simple Robots for Sale:2011-02-21>, <Post: Django 1.0 Release:2008-09-03>]>"
      ]
     },
     "execution_count": 31,
     "metadata": {},
     "output_type": "execute_result"
    }
   ],
   "source": [
    "Post.objects.prefetch_related('startups__tags')"
   ]
  },
  {
   "cell_type": "code",
   "execution_count": 34,
   "metadata": {
    "collapsed": false,
    "deletable": true,
    "editable": true
   },
   "outputs": [
    {
     "data": {
      "text/plain": [
       "<QuerySet [<Post: New Django Version:2020-05-15>, <Post: 圖書館106年10月26日(四)14:30-16:30時，JoVE Journal教育訓練歡迎前來參加!:2017-10-16>, <Post: More Django Info:2015-04-08>, <Post: Django 1.8 Release:2015-04-01>, <Post: Django Training:2013-01-18>, <Post: Simple Robots for Sale:2011-02-21>, <Post: Django 1.0 Release:2008-09-03>]>"
      ]
     },
     "execution_count": 34,
     "metadata": {},
     "output_type": "execute_result"
    }
   ],
   "source": [
    "Post.objects.prefetch_related(\n",
    "    'startups', 'startups__tags')"
   ]
  },
  {
   "cell_type": "code",
   "execution_count": 35,
   "metadata": {
    "collapsed": false,
    "deletable": true,
    "editable": true
   },
   "outputs": [
    {
     "data": {
      "text/plain": [
       "<QuerySet [<Post: New Django Version:2020-05-15>, <Post: 圖書館106年10月26日(四)14:30-16:30時，JoVE Journal教育訓練歡迎前來參加!:2017-10-16>, <Post: More Django Info:2015-04-08>, <Post: Django 1.8 Release:2015-04-01>, <Post: Django Training:2013-01-18>, <Post: Simple Robots for Sale:2011-02-21>, <Post: Django 1.0 Release:2008-09-03>]>"
      ]
     },
     "execution_count": 35,
     "metadata": {},
     "output_type": "execute_result"
    }
   ],
   "source": [
    "Post.objects.prefetch_related(\n",
    "'startups').prefetch_related(\n",
    "'tags')"
   ]
  },
  {
   "cell_type": "code",
   "execution_count": 18,
   "metadata": {
    "collapsed": true,
    "deletable": true,
    "editable": true
   },
   "outputs": [],
   "source": [
    "from django.db import reset_queries\n",
    "reset_queries()"
   ]
  },
  {
   "cell_type": "code",
   "execution_count": 19,
   "metadata": {
    "collapsed": false,
    "deletable": true,
    "editable": true
   },
   "outputs": [],
   "source": [
    "a = list(Post.objects.prefetch_related(\n",
    "    'startups', 'startups__tags'))"
   ]
  },
  {
   "cell_type": "code",
   "execution_count": 21,
   "metadata": {
    "collapsed": true,
    "deletable": true,
    "editable": true
   },
   "outputs": [],
   "source": [
    "from django.db  import connection\n",
    "from pprint import pprint"
   ]
  },
  {
   "cell_type": "code",
   "execution_count": 22,
   "metadata": {
    "collapsed": false,
    "deletable": true,
    "editable": true
   },
   "outputs": [
    {
     "name": "stdout",
     "output_type": "stream",
     "text": [
      "[{'sql': 'SELECT \"blog_post\".\"id\", \"blog_post\".\"title\", \"blog_post\".\"slug\", '\n",
      "         '\"blog_post\".\"text\", \"blog_post\".\"pub_date\", \"blog_post\".\"author_id\" '\n",
      "         'FROM \"blog_post\" ORDER BY \"blog_post\".\"pub_date\" DESC, '\n",
      "         '\"blog_post\".\"title\" ASC',\n",
      "  'time': '0.001'},\n",
      " {'sql': 'SELECT (\"blog_post_startups\".\"post_id\") AS '\n",
      "         '\"_prefetch_related_val_post_id\", \"organizer_startup\".\"id\", '\n",
      "         '\"organizer_startup\".\"name\", \"organizer_startup\".\"slug\", '\n",
      "         '\"organizer_startup\".\"description\", '\n",
      "         '\"organizer_startup\".\"founded_date\", \"organizer_startup\".\"contact\", '\n",
      "         '\"organizer_startup\".\"website\" FROM \"organizer_startup\" INNER JOIN '\n",
      "         '\"blog_post_startups\" ON (\"organizer_startup\".\"id\" = '\n",
      "         '\"blog_post_startups\".\"startup_id\") WHERE '\n",
      "         '\"blog_post_startups\".\"post_id\" IN (1, 2, 3, 4, 5, 6, 7) ORDER BY '\n",
      "         '\"organizer_startup\".\"name\" ASC',\n",
      "  'time': '0.000'},\n",
      " {'sql': 'SELECT (\"organizer_startup_tags\".\"startup_id\") AS '\n",
      "         '\"_prefetch_related_val_startup_id\", \"organizer_tag\".\"id\", '\n",
      "         '\"organizer_tag\".\"name\", \"organizer_tag\".\"slug\" FROM \"organizer_tag\" '\n",
      "         'INNER JOIN \"organizer_startup_tags\" ON (\"organizer_tag\".\"id\" = '\n",
      "         '\"organizer_startup_tags\".\"tag_id\") WHERE '\n",
      "         '\"organizer_startup_tags\".\"startup_id\" IN (8, 1, 6) ORDER BY '\n",
      "         '\"organizer_tag\".\"name\" ASC',\n",
      "  'time': '0.000'}]\n"
     ]
    }
   ],
   "source": [
    "pprint(connection.queries)"
   ]
  },
  {
   "cell_type": "code",
   "execution_count": 23,
   "metadata": {
    "collapsed": true,
    "deletable": true,
    "editable": true
   },
   "outputs": [],
   "source": [
    "from django.db import reset_queries\n",
    "reset_queries()"
   ]
  },
  {
   "cell_type": "code",
   "execution_count": 24,
   "metadata": {
    "collapsed": true,
    "deletable": true,
    "editable": true
   },
   "outputs": [],
   "source": [
    "from django.db  import connection\n",
    "from pprint import pprint"
   ]
  },
  {
   "cell_type": "code",
   "execution_count": 26,
   "metadata": {
    "collapsed": false,
    "deletable": true,
    "editable": true
   },
   "outputs": [],
   "source": [
    "b = list(Post.objects.prefetch_related(\n",
    "    'startups__tags'))"
   ]
  },
  {
   "cell_type": "code",
   "execution_count": 27,
   "metadata": {
    "collapsed": false,
    "deletable": true,
    "editable": true
   },
   "outputs": [
    {
     "name": "stdout",
     "output_type": "stream",
     "text": [
      "[{'sql': 'SELECT \"blog_post\".\"id\", \"blog_post\".\"title\", \"blog_post\".\"slug\", '\n",
      "         '\"blog_post\".\"text\", \"blog_post\".\"pub_date\", \"blog_post\".\"author_id\" '\n",
      "         'FROM \"blog_post\" ORDER BY \"blog_post\".\"pub_date\" DESC, '\n",
      "         '\"blog_post\".\"title\" ASC',\n",
      "  'time': '0.000'},\n",
      " {'sql': 'SELECT (\"blog_post_startups\".\"post_id\") AS '\n",
      "         '\"_prefetch_related_val_post_id\", \"organizer_startup\".\"id\", '\n",
      "         '\"organizer_startup\".\"name\", \"organizer_startup\".\"slug\", '\n",
      "         '\"organizer_startup\".\"description\", '\n",
      "         '\"organizer_startup\".\"founded_date\", \"organizer_startup\".\"contact\", '\n",
      "         '\"organizer_startup\".\"website\" FROM \"organizer_startup\" INNER JOIN '\n",
      "         '\"blog_post_startups\" ON (\"organizer_startup\".\"id\" = '\n",
      "         '\"blog_post_startups\".\"startup_id\") WHERE '\n",
      "         '\"blog_post_startups\".\"post_id\" IN (1, 2, 3, 4, 5, 6, 7) ORDER BY '\n",
      "         '\"organizer_startup\".\"name\" ASC',\n",
      "  'time': '0.001'},\n",
      " {'sql': 'SELECT (\"organizer_startup_tags\".\"startup_id\") AS '\n",
      "         '\"_prefetch_related_val_startup_id\", \"organizer_tag\".\"id\", '\n",
      "         '\"organizer_tag\".\"name\", \"organizer_tag\".\"slug\" FROM \"organizer_tag\" '\n",
      "         'INNER JOIN \"organizer_startup_tags\" ON (\"organizer_tag\".\"id\" = '\n",
      "         '\"organizer_startup_tags\".\"tag_id\") WHERE '\n",
      "         '\"organizer_startup_tags\".\"startup_id\" IN (8, 1, 6) ORDER BY '\n",
      "         '\"organizer_tag\".\"name\" ASC',\n",
      "  'time': '0.000'}]\n"
     ]
    }
   ],
   "source": [
    "pprint(connection.queries)"
   ]
  },
  {
   "cell_type": "code",
   "execution_count": 28,
   "metadata": {
    "collapsed": true,
    "deletable": true,
    "editable": true
   },
   "outputs": [],
   "source": [
    "from django.db.models import Prefetch"
   ]
  },
  {
   "cell_type": "code",
   "execution_count": 29,
   "metadata": {
    "collapsed": false,
    "deletable": true,
    "editable": true
   },
   "outputs": [
    {
     "data": {
      "text/plain": [
       "<QuerySet [<Post: New Django Version:2020-05-15>, <Post: 圖書館106年10月26日(四)14:30-16:30時，JoVE Journal教育訓練歡迎前來參加!:2017-10-16>, <Post: More Django Info:2015-04-08>, <Post: Django 1.8 Release:2015-04-01>, <Post: Django Training:2013-01-18>, <Post: Simple Robots for Sale:2011-02-21>, <Post: Django 1.0 Release:2008-09-03>]>"
      ]
     },
     "execution_count": 29,
     "metadata": {},
     "output_type": "execute_result"
    }
   ],
   "source": [
    "Post.objects.prefetch_related(\n",
    "Prefetch('startups__tags'))"
   ]
  },
  {
   "cell_type": "code",
   "execution_count": 31,
   "metadata": {
    "collapsed": false,
    "deletable": true,
    "editable": true
   },
   "outputs": [],
   "source": [
    "post_list = list(\n",
    "    Post.objects.prefetch_related(\n",
    "        Prefetch(\n",
    "            'startups__tags',\n",
    "            queryset=Tag.objects.all(),\n",
    "            to_attr='cached_tags',),))"
   ]
  },
  {
   "cell_type": "code",
   "execution_count": 32,
   "metadata": {
    "collapsed": true,
    "deletable": true,
    "editable": true
   },
   "outputs": [],
   "source": [
    "startup_list = list(\n",
    "    Startup.objects.prefetch_related(\n",
    "        Prefetch(\n",
    "            'blog_posts',\n",
    "            queryset=(\n",
    "                Post.objects.select_related(\n",
    "                    'author__profile')),\n",
    "            to_attr='cached_posts'),\n",
    "        Prefetch(\n",
    "            'cached_posts__tags',\n",
    "            to_attr='cached_post_tags'),\n",
    "        Prefetch(\n",
    "            'tags',\n",
    "            to_attr='cached_tags'),\n",
    "        Prefetch(\n",
    "            'cached_tags__startup_set')\n",
    "        ))"
   ]
  },
  {
   "cell_type": "code",
   "execution_count": 35,
   "metadata": {
    "collapsed": false,
    "deletable": true,
    "editable": true
   },
   "outputs": [
    {
     "name": "stdout",
     "output_type": "stream",
     "text": [
      "Arachnobots has the following competitors:\n",
      "    Jambon Software\n",
      "    Jambon Software\n",
      "    Simple Robots\n",
      "Boundless Software has the following competitors:\n",
      "    Jambon Software\n",
      "    Lightning Rod Consulting\n",
      "    Thingies\n",
      "    Jambon Software\n",
      "    Simple Robots\n",
      "Game Congress has the following competitors:\n",
      "    Simple Robots\n",
      "    Simple Robots\n",
      "Jambon Software has the following competitors:\n",
      "    Lightning Rod Consulting\n",
      "    Thingies\n",
      "    Boundless Software\n",
      "    Lightning Rod Consulting\n",
      "    Thingies\n",
      "    Arachnobots\n",
      "    Boundless Software\n",
      "    Arachnobots\n",
      "Lightning Rod Consulting has the following competitors:\n",
      "    Thingies\n",
      "    Jambon Software\n",
      "    Thingies\n",
      "    Thingies\n",
      "    Boundless Software\n",
      "    Jambon Software\n",
      "    Thingies\n",
      "Monkey Software has the following competitors:\n",
      "Simple Robots has the following competitors:\n",
      "    Game Congress\n",
      "    Arachnobots\n",
      "    Game Congress\n",
      "    Boundless Software\n",
      "Thingies has the following competitors:\n",
      "    Lightning Rod Consulting\n",
      "    Jambon Software\n",
      "    Lightning Rod Consulting\n",
      "    Lightning Rod Consulting\n",
      "    Boundless Software\n",
      "    Jambon Software\n",
      "    Lightning Rod Consulting\n"
     ]
    }
   ],
   "source": [
    "for startup in startup_list:\n",
    "    print(\n",
    "        '{} has the following competitors:'.\n",
    "        format(startup))\n",
    "    for tag in startup.cached_tags:\n",
    "        for competitor in tag.startup_set.all():\n",
    "            if competitor.pk != startup.pk:\n",
    "                print(\n",
    "                    '    {}'.format(\n",
    "                        competitor))"
   ]
  },
  {
   "cell_type": "code",
   "execution_count": 36,
   "metadata": {
    "collapsed": true,
    "deletable": true,
    "editable": true
   },
   "outputs": [],
   "source": [
    "startup_list_1 = list(\n",
    "    Startup.objects.prefetch_related(\n",
    "        Prefetch(\n",
    "            'blog_posts',\n",
    "            to_attr='cached_posts'),\n",
    "        Prefetch(\n",
    "            'cached_posts__tags')))\n",
    "\n",
    "startup_list_2 = list(\n",
    "    Startup.objects.prefetch_related(\n",
    "        Prefetch('blog_posts'),\n",
    "        Prefetch('blog_posts__tags')))"
   ]
  },
  {
   "cell_type": "code",
   "execution_count": 37,
   "metadata": {
    "collapsed": false,
    "deletable": true,
    "editable": true
   },
   "outputs": [
    {
     "data": {
      "text/plain": [
       "<QuerySet [<Tag: Django>, <Tag: Web>, <Tag: Augmented Reality>, <Tag: Big Data>, <Tag: Django Unleashed>, <Tag: Education>, <Tag: Ipython>, <Tag: Javascript>, <Tag: Jupyter>, <Tag: Node.Js>, <Tag: Php>, <Tag: Python>, <Tag: Ruby>, <Tag: Ruby On Rails>, <Tag: Zend>]>"
      ]
     },
     "execution_count": 37,
     "metadata": {},
     "output_type": "execute_result"
    }
   ],
   "source": [
    "Tag.objects.only('name') # get only name"
   ]
  },
  {
   "cell_type": "code",
   "execution_count": 38,
   "metadata": {
    "collapsed": false,
    "deletable": true,
    "editable": true
   },
   "outputs": [
    {
     "data": {
      "text/plain": [
       "<QuerySet [<Tag: Django>, <Tag: Web>, <Tag: Augmented Reality>, <Tag: Big Data>, <Tag: Django Unleashed>, <Tag: Education>, <Tag: Ipython>, <Tag: Javascript>, <Tag: Jupyter>, <Tag: Node.Js>, <Tag: Php>, <Tag: Python>, <Tag: Ruby>, <Tag: Ruby On Rails>, <Tag: Zend>]>"
      ]
     },
     "execution_count": 38,
     "metadata": {},
     "output_type": "execute_result"
    }
   ],
   "source": [
    "Tag.objects.defer('slug') # get all but slug"
   ]
  },
  {
   "cell_type": "code",
   "execution_count": 43,
   "metadata": {
    "collapsed": false,
    "deletable": true,
    "editable": true
   },
   "outputs": [
    {
     "data": {
      "text/plain": [
       "<QuerySet [{'id': 13, 'name': 'Django', 'pk': 13}, {'id': 14, 'name': 'Web', 'pk': 14}, {'id': 1, 'name': 'augmented reality', 'pk': 1}, {'id': 2, 'name': 'big data', 'pk': 2}, {'id': 15, 'name': 'django unleashed', 'pk': 15}, {'id': 3, 'name': 'education', 'pk': 3}, {'id': 4, 'name': 'ipython', 'pk': 4}, {'id': 5, 'name': 'javascript', 'pk': 5}, {'id': 6, 'name': 'jupyter', 'pk': 6}, {'id': 7, 'name': 'node.js', 'pk': 7}, {'id': 8, 'name': 'php', 'pk': 8}, {'id': 9, 'name': 'python', 'pk': 9}, {'id': 11, 'name': 'ruby', 'pk': 11}, {'id': 10, 'name': 'ruby on rails', 'pk': 10}, {'id': 12, 'name': 'zend', 'pk': 12}]>"
      ]
     },
     "execution_count": 43,
     "metadata": {},
     "output_type": "execute_result"
    }
   ],
   "source": [
    "Tag.objects.all().values('pk', 'id', 'name')"
   ]
  },
  {
   "cell_type": "code",
   "execution_count": 46,
   "metadata": {
    "collapsed": false,
    "deletable": true,
    "editable": true
   },
   "outputs": [
    {
     "data": {
      "text/plain": [
       "<QuerySet [{'id': 13, 'slug': 'django', 'name': 'Django'}, {'id': 14, 'slug': 'web', 'name': 'Web'}, {'id': 1, 'slug': 'augmented-reality', 'name': 'augmented reality'}, {'id': 2, 'slug': 'big-data', 'name': 'big data'}, {'id': 15, 'slug': 'django-unleashed', 'name': 'django unleashed'}, {'id': 3, 'slug': 'education', 'name': 'education'}, {'id': 4, 'slug': 'ipython', 'name': 'ipython'}, {'id': 5, 'slug': 'javascript', 'name': 'javascript'}, {'id': 6, 'slug': 'jupyter', 'name': 'jupyter'}, {'id': 7, 'slug': 'node-js', 'name': 'node.js'}, {'id': 8, 'slug': 'php', 'name': 'php'}, {'id': 9, 'slug': 'python', 'name': 'python'}, {'id': 11, 'slug': 'ruby', 'name': 'ruby'}, {'id': 10, 'slug': 'ruby-on-rails', 'name': 'ruby on rails'}, {'id': 12, 'slug': 'zend', 'name': 'zend'}]>"
      ]
     },
     "execution_count": 46,
     "metadata": {},
     "output_type": "execute_result"
    }
   ],
   "source": [
    "Tag.objects.only('name').values() \n",
    "# values() will overriding\n",
    "# only()"
   ]
  },
  {
   "cell_type": "code",
   "execution_count": null,
   "metadata": {
    "collapsed": true,
    "deletable": true,
    "editable": true
   },
   "outputs": [],
   "source": []
  }
 ],
 "metadata": {
  "kernelspec": {
   "display_name": "Django Shell-Plus",
   "language": "python",
   "name": "django_extensions"
  },
  "language_info": {
   "codemirror_mode": {
    "name": "ipython",
    "version": 3
   },
   "file_extension": ".py",
   "mimetype": "text/x-python",
   "name": "python",
   "nbconvert_exporter": "python",
   "pygments_lexer": "ipython3",
   "version": "3.5.2"
  }
 },
 "nbformat": 4,
 "nbformat_minor": 2
}
