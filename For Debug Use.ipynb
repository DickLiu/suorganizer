{
 "cells": [
  {
   "cell_type": "code",
   "execution_count": 2,
   "metadata": {
    "collapsed": true,
    "deletable": true,
    "editable": true
   },
   "outputs": [],
   "source": [
    "from organizer.models import Tag, NewsLink, Startup"
   ]
  },
  {
   "cell_type": "code",
   "execution_count": 3,
   "metadata": {
    "collapsed": false,
    "deletable": true,
    "editable": true
   },
   "outputs": [
    {
     "data": {
      "text/plain": [
       "<QuerySet [<Tag: >, <Tag: Django>, <Tag: Mobile>, <Tag: New_Tag>, <Tag: Video Games>, <Tag: Web>, <Tag: Xx>]>"
      ]
     },
     "execution_count": 3,
     "metadata": {},
     "output_type": "execute_result"
    }
   ],
   "source": [
    "Tag.objects.all()"
   ]
  },
  {
   "cell_type": "code",
   "execution_count": 4,
   "metadata": {
    "collapsed": false,
    "deletable": true,
    "editable": true
   },
   "outputs": [
    {
     "data": {
      "text/plain": [
       "<QuerySet [{'slug': '', 'name': '', 'id': 8}, {'slug': 'django', 'name': 'django', 'id': 3}, {'slug': 'mobile', 'name': 'mobile', 'id': 4}, {'slug': 'test', 'name': 'new_tag', 'id': 7}, {'slug': 'video-games', 'name': 'video games', 'id': 2}, {'slug': 'web', 'name': 'web', 'id': 5}, {'slug': 'xx', 'name': 'xx', 'id': 9}]>"
      ]
     },
     "execution_count": 4,
     "metadata": {},
     "output_type": "execute_result"
    }
   ],
   "source": [
    "Tag.objects.values()"
   ]
  },
  {
   "cell_type": "code",
   "execution_count": 1,
   "metadata": {
    "collapsed": true,
    "deletable": true,
    "editable": true
   },
   "outputs": [],
   "source": [
    "from blog.models import Post\n",
    "\n"
   ]
  },
  {
   "cell_type": "code",
   "execution_count": 2,
   "metadata": {
    "collapsed": false,
    "deletable": true,
    "editable": true
   },
   "outputs": [
    {
     "data": {
      "text/plain": [
       "<QuerySet [<Post: New Django Version:2020-05-15>, <Post: More Django Info:2015-04-08>, <Post: Django 1.8 Release:2015-04-01>, <Post: Django Training:2013-01-18>, <Post: Django Training:2013-01-18>, <Post: Simple Robots for Sale:2011-02-21>, <Post: Django 1.0 Release:2008-09-03>]>"
      ]
     },
     "execution_count": 2,
     "metadata": {},
     "output_type": "execute_result"
    }
   ],
   "source": [
    "Post.objects.all()"
   ]
  },
  {
   "cell_type": "code",
   "execution_count": 3,
   "metadata": {
    "collapsed": false,
    "deletable": true,
    "editable": true
   },
   "outputs": [
    {
     "data": {
      "text/plain": [
       "<QuerySet [{'pub_date': datetime.date(2014, 4, 26), 'link': 'https://en.wikipedia.org/wiki/William_Shakespeare', 'slug': '', 'id': 3, 'title': 'William Shakespeare (Wikipedia)', 'startup_id': 6}, {'pub_date': datetime.date(2013, 1, 18), 'link': 'http://jambonsw.com', 'slug': '', 'id': 1, 'title': 'Redundant Homepage Link', 'startup_id': 1}, {'pub_date': datetime.date(2012, 7, 22), 'link': 'https://en.wikipedia.org/wiki/Monkey', 'slug': 'monkey-wikipedia', 'id': 2, 'title': 'Monkey (Wikipedia)', 'startup_id': 6}]>"
      ]
     },
     "execution_count": 3,
     "metadata": {},
     "output_type": "execute_result"
    }
   ],
   "source": [
    "NewsLink.objects.values()"
   ]
  },
  {
   "cell_type": "code",
   "execution_count": 2,
   "metadata": {
    "collapsed": false,
    "deletable": true,
    "editable": true
   },
   "outputs": [
    {
     "data": {
      "text/plain": [
       "<QuerySet [<Tag: Augmented Reality>, <Tag: Big Data>, <Tag: Education>, <Tag: Ipython>, <Tag: Javascript>, <Tag: Jupyter>, <Tag: Node.Js>, <Tag: Php>, <Tag: Python>, <Tag: Ruby>, <Tag: Ruby On Rails>, <Tag: Zend>]>"
      ]
     },
     "execution_count": 2,
     "metadata": {},
     "output_type": "execute_result"
    }
   ],
   "source": [
    "Tag.objects.all()"
   ]
  },
  {
   "cell_type": "code",
   "execution_count": 4,
   "metadata": {
    "collapsed": false,
    "deletable": true,
    "editable": true
   },
   "outputs": [
    {
     "data": {
      "text/plain": [
       "<QuerySet [<Startup: Arachnobots>, <Startup: Boundless Software>, <Startup: Game Congress>, <Startup: Lightning Rod Consulting>, <Startup: Monkey Software>, <Startup: Simple Robots>, <Startup: Thingies>]>"
      ]
     },
     "execution_count": 4,
     "metadata": {},
     "output_type": "execute_result"
    }
   ],
   "source": [
    "Startup.objects.all()"
   ]
  },
  {
   "cell_type": "code",
   "execution_count": 1,
   "metadata": {
    "collapsed": false,
    "deletable": true,
    "editable": true
   },
   "outputs": [
    {
     "data": {
      "text/plain": [
       "<QuerySet [{'slug': 'arachnobots', 'website': 'http://frightenyourroommate.com/', 'description': 'Remote-controlled internet-enabled Spider Robots.', 'founded_date': datetime.date(2014, 10, 31), 'name': 'Arachnobots', 'contact': 'contact@arachnobots.com', 'id': 1}, {'slug': 'boundless-software', 'website': 'http://boundless.com/', 'description': 'The sky was the limit.', 'founded_date': datetime.date(2013, 5, 15), 'name': 'Boundless Software', 'contact': 'hello@boundless.com', 'id': 2}, {'slug': 'game-congress', 'website': 'http://gamecongress.com/', 'description': 'By gamers, for gamers, of gamers.', 'founded_date': datetime.date(2012, 7, 4), 'name': 'Game Congress', 'contact': 'vote@gamecongress.com', 'id': 3}, {'slug': 'jambon-software', 'website': '', 'description': '', 'founded_date': datetime.date(2013, 1, 2), 'name': 'Jambon Software', 'contact': '', 'id': 8}, {'slug': 'lightning-rod-consulting', 'website': 'http://lightningrod.com/', 'description': 'Channel the storm. Trouble shoot the cloud.', 'founded_date': datetime.date(2014, 4, 1), 'name': 'Lightning Rod Consulting', 'contact': 'help@lightningrod.com', 'id': 4}, {'slug': 'monkey-software', 'website': 'http://monkeysw.com/', 'description': '1000 code monkeys making software.', 'founded_date': datetime.date(2014, 12, 10), 'name': 'Monkey Software', 'contact': 'shakespeare@monkeysw.com', 'id': 5}, {'slug': 'simple-robots', 'website': 'http://simplerobots.com/', 'description': 'Your resource to understanding computer, robots, and technology.', 'founded_date': datetime.date(2010, 1, 2), 'name': 'Simple Robots', 'contact': 'yoshimi@simplerobots.com', 'id': 6}, {'slug': 'thingies', 'website': 'http://buythingies.com/', 'description': 'A marketplace for arduino, raspberry pi, and other homemade stuff.', 'founded_date': datetime.date(2015, 4, 7), 'name': 'Thingies', 'contact': 'help@lightningrod.com', 'id': 7}]>"
      ]
     },
     "execution_count": 1,
     "metadata": {},
     "output_type": "execute_result"
    }
   ],
   "source": [
    "Startup.objects.all().values()"
   ]
  },
  {
   "cell_type": "code",
   "execution_count": 5,
   "metadata": {
    "collapsed": false,
    "deletable": true,
    "editable": true
   },
   "outputs": [
    {
     "data": {
      "text/plain": [
       "<QuerySet [<Tag: Augmented Reality>, <Tag: Big Data>, <Tag: Education>, <Tag: Ipython>, <Tag: Javascript>, <Tag: Jupyter>, <Tag: Node.Js>, <Tag: Php>, <Tag: Python>, <Tag: Ruby>, <Tag: Ruby On Rails>, <Tag: Zend>]>"
      ]
     },
     "execution_count": 5,
     "metadata": {},
     "output_type": "execute_result"
    }
   ],
   "source": [
    "Tag.objects.all()"
   ]
  },
  {
   "cell_type": "code",
   "execution_count": 6,
   "metadata": {
    "collapsed": false,
    "deletable": true,
    "editable": true
   },
   "outputs": [
    {
     "data": {
      "text/plain": [
       "<Tag: Django>"
      ]
     },
     "execution_count": 6,
     "metadata": {},
     "output_type": "execute_result"
    }
   ],
   "source": [
    "Tag.objects.create(slug='django', name='Django')"
   ]
  },
  {
   "cell_type": "code",
   "execution_count": 7,
   "metadata": {
    "collapsed": false
   },
   "outputs": [
    {
     "data": {
      "text/plain": [
       "<Tag: Web>"
      ]
     },
     "execution_count": 7,
     "metadata": {},
     "output_type": "execute_result"
    }
   ],
   "source": [
    "Tag.objects.create(slug='web', name='Web')"
   ]
  },
  {
   "cell_type": "code",
   "execution_count": null,
   "metadata": {
    "collapsed": true
   },
   "outputs": [],
   "source": []
  }
 ],
 "metadata": {
  "kernelspec": {
   "display_name": "Django Shell-Plus",
   "language": "python",
   "name": "django_extensions"
  },
  "language_info": {
   "codemirror_mode": {
    "name": "ipython",
    "version": 3
   },
   "file_extension": ".py",
   "mimetype": "text/x-python",
   "name": "python",
   "nbconvert_exporter": "python",
   "pygments_lexer": "ipython3",
   "version": "3.5.2"
  }
 },
 "nbformat": 4,
 "nbformat_minor": 2
}
