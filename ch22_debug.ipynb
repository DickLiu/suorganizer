{
 "cells": [
  {
   "cell_type": "code",
   "execution_count": 5,
   "metadata": {
    "collapsed": true
   },
   "outputs": [],
   "source": [
    "from user.models import User, Profile"
   ]
  },
  {
   "cell_type": "code",
   "execution_count": 2,
   "metadata": {
    "collapsed": false
   },
   "outputs": [
    {
     "data": {
      "text/plain": [
       "<QuerySet [<User: django@jambonsw.com>, <User: ada@djangogirls.org>]>"
      ]
     },
     "execution_count": 2,
     "metadata": {},
     "output_type": "execute_result"
    }
   ],
   "source": [
    "User.objects.all()"
   ]
  },
  {
   "cell_type": "code",
   "execution_count": 4,
   "metadata": {
    "collapsed": false
   },
   "outputs": [
    {
     "data": {
      "text/plain": [
       "<QuerySet [{'is_staff': True, 'is_active': True, 'id': 1, 'password': 'pbkdf2_sha256$30000$kjEeWSJ8h9EA$rs3gAdtqqSIZtYLO/ojteuRVNxMvUYlqchUp4cE1+1A=', 'is_superuser': True, 'last_login': datetime.datetime(2017, 10, 16, 7, 25, 26, 952073, tzinfo=<UTC>), 'email': 'django@jambonsw.com'}, {'is_staff': True, 'is_active': True, 'id': 2, 'password': 'pbkdf2_sha256$30000$4hKIci2YYEje$PiAmV/DfilTG4+xqFgkxBObpPgqRefl/DGEq5t0ChEY=', 'is_superuser': False, 'last_login': None, 'email': 'ada@djangogirls.org'}]>"
      ]
     },
     "execution_count": 4,
     "metadata": {},
     "output_type": "execute_result"
    }
   ],
   "source": [
    "User.objects.all().values()"
   ]
  },
  {
   "cell_type": "code",
   "execution_count": 6,
   "metadata": {
    "collapsed": false
   },
   "outputs": [
    {
     "data": {
      "text/plain": [
       "<QuerySet [{'joined': datetime.datetime(2017, 10, 15, 8, 18, 14, 471848, tzinfo=<UTC>), 'about': 'The author of this site and Dick', 'slug': 'andrew', 'id': 1, 'name': 'Andrew', 'user_id': 1}, {'joined': datetime.datetime(2017, 10, 15, 8, 18, 14, 495410, tzinfo=<UTC>), 'about': 'Django Girls is a non-profit organization that empowers and helps women to organize free, one-day programming workshops by providing tools, resources and support. It was born in Berlin and started by two Polish girls: Ola Sitarska and Ola Sendecka.', 'slug': 'the_countess', 'id': 2, 'name': 'Ada Lovelace', 'user_id': 2}]>"
      ]
     },
     "execution_count": 6,
     "metadata": {},
     "output_type": "execute_result"
    }
   ],
   "source": [
    "Profile.objects.all().values()"
   ]
  },
  {
   "cell_type": "code",
   "execution_count": null,
   "metadata": {
    "collapsed": true
   },
   "outputs": [],
   "source": []
  }
 ],
 "metadata": {
  "kernelspec": {
   "display_name": "Django Shell-Plus",
   "language": "python",
   "name": "django_extensions"
  },
  "language_info": {
   "codemirror_mode": {
    "name": "ipython",
    "version": 3
   },
   "file_extension": ".py",
   "mimetype": "text/x-python",
   "name": "python",
   "nbconvert_exporter": "python",
   "pygments_lexer": "ipython3",
   "version": "3.5.2"
  }
 },
 "nbformat": 4,
 "nbformat_minor": 2
}
