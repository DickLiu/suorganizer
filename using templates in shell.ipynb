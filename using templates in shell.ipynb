{
 "cells": [
  {
   "cell_type": "code",
   "execution_count": 2,
   "metadata": {
    "collapsed": true,
    "deletable": true,
    "editable": true
   },
   "outputs": [],
   "source": [
    "from django.template import Template, Context"
   ]
  },
  {
   "cell_type": "code",
   "execution_count": 2,
   "metadata": {
    "collapsed": true,
    "deletable": true,
    "editable": true
   },
   "outputs": [],
   "source": [
    "template = Template(\"Hi, my name is {{ name }}.\")"
   ]
  },
  {
   "cell_type": "code",
   "execution_count": 3,
   "metadata": {
    "collapsed": true,
    "deletable": true,
    "editable": true
   },
   "outputs": [],
   "source": [
    "context = Context({\"name\":\"Andrew\"})"
   ]
  },
  {
   "cell_type": "code",
   "execution_count": 4,
   "metadata": {
    "collapsed": false,
    "deletable": true,
    "editable": true
   },
   "outputs": [
    {
     "data": {
      "text/plain": [
       "'Hi, my name is Andrew.'"
      ]
     },
     "execution_count": 4,
     "metadata": {},
     "output_type": "execute_result"
    }
   ],
   "source": [
    "template.render(context)"
   ]
  },
  {
   "cell_type": "code",
   "execution_count": 49,
   "metadata": {
    "collapsed": false,
    "deletable": true,
    "editable": true
   },
   "outputs": [],
   "source": [
    "template = Template(\n",
    "    '{{ ml.exclaim }}!\\n'\n",
    "    \"she siad {{ ml.adverb}}\" \n",
    "    \"as she jumped into her convertible{{ ml.noun1 }}\"\n",
    "    \"and frove off with her {{ ml.noun2 }}.\"\n",
    "                    )"
   ]
  },
  {
   "cell_type": "code",
   "execution_count": 50,
   "metadata": {
    "collapsed": true,
    "deletable": true,
    "editable": true
   },
   "outputs": [],
   "source": [
    "mad_lib = {\n",
    "    \"exclaim\":\"ouch\", \n",
    "    \"adverb\":\"dutifully\", \n",
    "    \"noun1\":\"boat\", \n",
    "    \"noun2\":\"pineapple\"\n",
    "}"
   ]
  },
  {
   "cell_type": "code",
   "execution_count": 51,
   "metadata": {
    "collapsed": true,
    "deletable": true,
    "editable": true
   },
   "outputs": [],
   "source": [
    "context = Context({\"ml\": mad_lib})"
   ]
  },
  {
   "cell_type": "code",
   "execution_count": 52,
   "metadata": {
    "collapsed": false,
    "deletable": true,
    "editable": true
   },
   "outputs": [
    {
     "data": {
      "text/plain": [
       "'ouch!\\nshe siad dutifullyas she jumped into her convertibleboatand frove off with her pineapple.'"
      ]
     },
     "execution_count": 52,
     "metadata": {},
     "output_type": "execute_result"
    }
   ],
   "source": [
    "template.render(context)"
   ]
  },
  {
   "cell_type": "code",
   "execution_count": 2,
   "metadata": {
    "collapsed": true,
    "deletable": true,
    "editable": true
   },
   "outputs": [],
   "source": [
    "from django.template import loader"
   ]
  },
  {
   "cell_type": "code",
   "execution_count": 20,
   "metadata": {
    "collapsed": false,
    "deletable": true,
    "editable": true
   },
   "outputs": [],
   "source": [
    "template = loader.get_template('organizer/tag_list.html')"
   ]
  },
  {
   "cell_type": "code",
   "execution_count": 21,
   "metadata": {
    "collapsed": true,
    "deletable": true,
    "editable": true
   },
   "outputs": [],
   "source": [
    "best_list = [{\"name\":'Pirates'}, {'name':'Ninjas'}, {'name':'Cowboys'}]"
   ]
  },
  {
   "cell_type": "code",
   "execution_count": 26,
   "metadata": {
    "collapsed": false,
    "deletable": true,
    "editable": true
   },
   "outputs": [],
   "source": [
    "context = Context({'tag_list':best_list})"
   ]
  },
  {
   "cell_type": "code",
   "execution_count": 29,
   "metadata": {
    "collapsed": false,
    "deletable": true,
    "editable": true
   },
   "outputs": [
    {
     "data": {
      "text/plain": [
       "'<!DOCYPE html>\\n<html lang=\"en\">\\n    <head>\\n    <meta charset=\"utf-8\">\\n        <title>\\n        \\n\\n        Startup Organizer\\n         - Tag List\\n\\n        </title>\\n    <meta http-equiv=\"X-UA-Compatitle\" content=\"IE=edge, chrome=1\">\\n    <meta name=\"viewport\" content=\"width=device-width, initial-scale=1\">\\n        <!--[if IE]><script src=\"http://html5shiv.googlecode.com/svn/trunk/html5.js\"></script><![endif]-->\\n    </head>\\n    \\n    <body>\\n    \\n        <div><!-- container -->\\n            <header>\\n                <h1>Startup Organizer</h1>          \\n            </header>\\n            <main>\\n            \\n<h2>Tag List</h2>\\n<ul>\\n\\n    <li>\\n    <a href=\"\">\\n        Pirates\\n        </a>\\n    </li>\\n\\n    <li>\\n    <a href=\"\">\\n        Ninjas\\n        </a>\\n    </li>\\n\\n    <li>\\n    <a href=\"\">\\n        Cowboys\\n        </a>\\n    </li>\\n\\n</ul>\\n\\n            </main>\\n        </div><!-- container -->\\n        \\n        <footer>\\n            <p>\\n            &copy; 2015\\n            <a href=\"https://AndrewForge.com/\">Andrew Pinkham</a>\\n            </p>\\n            <p>\\n            Created for\\n                <a href=\"https://Django-Unleashed.com/\">Django-Unleashed</a>\\n            </p>\\n        </footer>\\n    </body>\\n</html>'"
      ]
     },
     "execution_count": 29,
     "metadata": {},
     "output_type": "execute_result"
    }
   ],
   "source": [
    "template.render(context)\n",
    "#因為base_organizer 剛剛沒有加附檔名.html 所以找不到 ~_~\n",
    "#還有template tag不能用html5的語法去commemt"
   ]
  },
  {
   "cell_type": "code",
   "execution_count": 30,
   "metadata": {
    "collapsed": false,
    "deletable": true,
    "editable": true
   },
   "outputs": [
    {
     "name": "stdout",
     "output_type": "stream",
     "text": [
      "<!DOCYPE html>\n",
      "<html lang=\"en\">\n",
      "    <head>\n",
      "    <meta charset=\"utf-8\">\n",
      "        <title>\n",
      "        \n",
      "\n",
      "        Startup Organizer\n",
      "         - Tag List\n",
      "\n",
      "        </title>\n",
      "    <meta http-equiv=\"X-UA-Compatitle\" content=\"IE=edge, chrome=1\">\n",
      "    <meta name=\"viewport\" content=\"width=device-width, initial-scale=1\">\n",
      "        <!--[if IE]><script src=\"http://html5shiv.googlecode.com/svn/trunk/html5.js\"></script><![endif]-->\n",
      "    </head>\n",
      "    \n",
      "    <body>\n",
      "    \n",
      "        <div><!-- container -->\n",
      "            <header>\n",
      "                <h1>Startup Organizer</h1>          \n",
      "            </header>\n",
      "            <main>\n",
      "            \n",
      "<h2>Tag List</h2>\n",
      "<ul>\n",
      "\n",
      "    <li>\n",
      "    <a href=\"\">\n",
      "        Pirates\n",
      "        </a>\n",
      "    </li>\n",
      "\n",
      "    <li>\n",
      "    <a href=\"\">\n",
      "        Ninjas\n",
      "        </a>\n",
      "    </li>\n",
      "\n",
      "    <li>\n",
      "    <a href=\"\">\n",
      "        Cowboys\n",
      "        </a>\n",
      "    </li>\n",
      "\n",
      "</ul>\n",
      "\n",
      "            </main>\n",
      "        </div><!-- container -->\n",
      "        \n",
      "        <footer>\n",
      "            <p>\n",
      "            &copy; 2015\n",
      "            <a href=\"https://AndrewForge.com/\">Andrew Pinkham</a>\n",
      "            </p>\n",
      "            <p>\n",
      "            Created for\n",
      "                <a href=\"https://Django-Unleashed.com/\">Django-Unleashed</a>\n",
      "            </p>\n",
      "        </footer>\n",
      "    </body>\n",
      "</html>\n"
     ]
    }
   ],
   "source": [
    "print(template.render(context))"
   ]
  },
  {
   "cell_type": "code",
   "execution_count": 3,
   "metadata": {
    "collapsed": true,
    "deletable": true,
    "editable": true
   },
   "outputs": [],
   "source": [
    "template = Template(\"My name is {{ name }}.\")"
   ]
  },
  {
   "cell_type": "code",
   "execution_count": 4,
   "metadata": {
    "collapsed": true,
    "deletable": true,
    "editable": true
   },
   "outputs": [],
   "source": [
    "context = Context({'name':'Ada'})"
   ]
  },
  {
   "cell_type": "code",
   "execution_count": 5,
   "metadata": {
    "collapsed": false,
    "deletable": true,
    "editable": true
   },
   "outputs": [
    {
     "data": {
      "text/plain": [
       "'My name is Ada.'"
      ]
     },
     "execution_count": 5,
     "metadata": {},
     "output_type": "execute_result"
    }
   ],
   "source": [
    "template.render(context)"
   ]
  },
  {
   "cell_type": "code",
   "execution_count": 1,
   "metadata": {
    "collapsed": true,
    "deletable": true,
    "editable": true
   },
   "outputs": [],
   "source": [
    "from django.template import loader"
   ]
  },
  {
   "cell_type": "code",
   "execution_count": 8,
   "metadata": {
    "collapsed": false,
    "deletable": true,
    "editable": true
   },
   "outputs": [],
   "source": [
    "template = loader.get_template('organizer/tag_list.html')"
   ]
  },
  {
   "cell_type": "code",
   "execution_count": 3,
   "metadata": {
    "collapsed": true,
    "deletable": true,
    "editable": true
   },
   "outputs": [],
   "source": [
    "from organizer.models import Tag"
   ]
  },
  {
   "cell_type": "code",
   "execution_count": 5,
   "metadata": {
    "collapsed": false
   },
   "outputs": [
    {
     "data": {
      "text/plain": [
       "<QuerySet [<Tag: Django>, <Tag: Mobile>, <Tag: Video Games>, <Tag: Web>]>"
      ]
     },
     "execution_count": 5,
     "metadata": {},
     "output_type": "execute_result"
    }
   ],
   "source": [
    "Tag.objects.all()"
   ]
  },
  {
   "cell_type": "code",
   "execution_count": 6,
   "metadata": {
    "collapsed": true
   },
   "outputs": [],
   "source": [
    "template = loader.get_template('organizer/tag_list.html')"
   ]
  },
  {
   "cell_type": "code",
   "execution_count": 7,
   "metadata": {
    "collapsed": true
   },
   "outputs": [],
   "source": [
    "context = Context({'tag_list':'Tag.objects.all()'})"
   ]
  },
  {
   "cell_type": "code",
   "execution_count": 9,
   "metadata": {
    "collapsed": false
   },
   "outputs": [
    {
     "name": "stdout",
     "output_type": "stream",
     "text": [
      "<!DOCYPE html>\n",
      "<html lang=\"en\">\n",
      "    <head>\n",
      "    <meta charset=\"utf-8\">\n",
      "        <title>\n",
      "        \n",
      "\n",
      "        Startup Organizer\n",
      "         - Tag List\n",
      "\n",
      "        </title>\n",
      "    <meta http-equiv=\"X-UA-Compatitle\" content=\"IE=edge, chrome=1\">\n",
      "    <meta name=\"viewport\" content=\"width=device-width, initial-scale=1\">\n",
      "        <!--[if IE]><script src=\"http://html5shiv.googlecode.com/svn/trunk/html5.js\"></script><![endif]-->\n",
      "    </head>\n",
      "    \n",
      "    <body>\n",
      "    \n",
      "        <div><!-- container -->\n",
      "            <header>\n",
      "                <h1>Startup Organizer</h1>          \n",
      "            </header>\n",
      "            <main>\n",
      "            \n",
      "<h2>Tag List</h2>\n",
      "<ul>\n",
      "\n",
      "    <li>\n",
      "    <a href=\"\">\n",
      "        \n",
      "        </a>\n",
      "    </li>\n",
      "\n",
      "    <li>\n",
      "    <a href=\"\">\n",
      "        \n",
      "        </a>\n",
      "    </li>\n",
      "\n",
      "    <li>\n",
      "    <a href=\"\">\n",
      "        \n",
      "        </a>\n",
      "    </li>\n",
      "\n",
      "    <li>\n",
      "    <a href=\"\">\n",
      "        \n",
      "        </a>\n",
      "    </li>\n",
      "\n",
      "    <li>\n",
      "    <a href=\"\">\n",
      "        \n",
      "        </a>\n",
      "    </li>\n",
      "\n",
      "    <li>\n",
      "    <a href=\"\">\n",
      "        \n",
      "        </a>\n",
      "    </li>\n",
      "\n",
      "    <li>\n",
      "    <a href=\"\">\n",
      "        \n",
      "        </a>\n",
      "    </li>\n",
      "\n",
      "    <li>\n",
      "    <a href=\"\">\n",
      "        \n",
      "        </a>\n",
      "    </li>\n",
      "\n",
      "    <li>\n",
      "    <a href=\"\">\n",
      "        \n",
      "        </a>\n",
      "    </li>\n",
      "\n",
      "    <li>\n",
      "    <a href=\"\">\n",
      "        \n",
      "        </a>\n",
      "    </li>\n",
      "\n",
      "    <li>\n",
      "    <a href=\"\">\n",
      "        \n",
      "        </a>\n",
      "    </li>\n",
      "\n",
      "    <li>\n",
      "    <a href=\"\">\n",
      "        \n",
      "        </a>\n",
      "    </li>\n",
      "\n",
      "    <li>\n",
      "    <a href=\"\">\n",
      "        \n",
      "        </a>\n",
      "    </li>\n",
      "\n",
      "    <li>\n",
      "    <a href=\"\">\n",
      "        \n",
      "        </a>\n",
      "    </li>\n",
      "\n",
      "    <li>\n",
      "    <a href=\"\">\n",
      "        \n",
      "        </a>\n",
      "    </li>\n",
      "\n",
      "    <li>\n",
      "    <a href=\"\">\n",
      "        \n",
      "        </a>\n",
      "    </li>\n",
      "\n",
      "    <li>\n",
      "    <a href=\"\">\n",
      "        \n",
      "        </a>\n",
      "    </li>\n",
      "\n",
      "</ul>\n",
      "\n",
      "            </main>\n",
      "        </div><!-- container -->\n",
      "        \n",
      "        <footer>\n",
      "            <p>\n",
      "            &copy; 2015\n",
      "            <a href=\"https://AndrewForge.com/\">Andrew Pinkham</a>\n",
      "            </p>\n",
      "            <p>\n",
      "            Created for\n",
      "                <a href=\"https://Django-Unleashed.com/\">Django-Unleashed</a>\n",
      "            </p>\n",
      "        </footer>\n",
      "    </body>\n",
      "</html>\n"
     ]
    }
   ],
   "source": [
    "print(template.render(context))"
   ]
  },
  {
   "cell_type": "code",
   "execution_count": null,
   "metadata": {
    "collapsed": true
   },
   "outputs": [],
   "source": []
  }
 ],
 "metadata": {
  "kernelspec": {
   "display_name": "Django Shell-Plus",
   "language": "python",
   "name": "django_extensions"
  },
  "language_info": {
   "codemirror_mode": {
    "name": "ipython",
    "version": 3
   },
   "file_extension": ".py",
   "mimetype": "text/x-python",
   "name": "python",
   "nbconvert_exporter": "python",
   "pygments_lexer": "ipython3",
   "version": "3.5.2"
  }
 },
 "nbformat": 4,
 "nbformat_minor": 2
}
